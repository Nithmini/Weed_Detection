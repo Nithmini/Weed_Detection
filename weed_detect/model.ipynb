{
 "cells": [
  {
   "cell_type": "code",
   "execution_count": 1,
   "metadata": {},
   "outputs": [],
   "source": [
    "import os\n",
    "import pandas as pd\n",
    "import numpy as np\n",
    "import tensorflow as tf\n",
    "from tensorflow.keras.preprocessing.image import ImageDataGenerator\n",
    "from sklearn.model_selection import train_test_split\n",
    "from sklearn.preprocessing import LabelEncoder\n",
    "from tensorflow.keras.utils import to_categorical\n",
    "import cv2"
   ]
  },
  {
   "cell_type": "code",
   "execution_count": 2,
   "metadata": {},
   "outputs": [
    {
     "name": "stdout",
     "output_type": "stream",
     "text": [
      "                Filename  Label       Species\n",
      "0  20160928-140314-0.jpg      0  Chinee apple\n",
      "1  20160928-140337-0.jpg      0  Chinee apple\n",
      "2  20160928-140731-0.jpg      0  Chinee apple\n",
      "3  20160928-140747-0.jpg      0  Chinee apple\n",
      "4  20160928-141107-0.jpg      0  Chinee apple\n"
     ]
    }
   ],
   "source": [
    "# Load the Excel dataset\n",
    "excel_file = 'labels.csv'  # Path to your Excel file\n",
    "df = pd.read_csv(excel_file)\n",
    "\n",
    "# Preview dataset\n",
    "print(df.head())"
   ]
  },
  {
   "cell_type": "code",
   "execution_count": 3,
   "metadata": {},
   "outputs": [],
   "source": [
    "# Set the image folder path and target image size\n",
    "image_folder = 'images/'  # Folder containing images\n",
    "image_size = (128, 128)  # Resize all images to 128x128"
   ]
  },
  {
   "cell_type": "code",
   "execution_count": 4,
   "metadata": {},
   "outputs": [],
   "source": [
    "# Function to load and preprocess images\n",
    "def load_and_preprocess_images(image_folder, filenames, image_size):\n",
    "    images = [] #crate and save in this array\n",
    "    for filename in filenames:\n",
    "        image_path = os.path.join(image_folder, filename)\n",
    "        image = cv2.imread(image_path)\n",
    "        if image is not None:\n",
    "            image = cv2.resize(image, image_size)  # Resize image\n",
    "            images.append(image)\n",
    "        else:\n",
    "            print(f\"Image not found: {filename}\")\n",
    "    return np.array(images)"
   ]
  },
  {
   "cell_type": "code",
   "execution_count": 5,
   "metadata": {},
   "outputs": [],
   "source": [
    "# Load images using filenames from Excel file\n",
    "images = load_and_preprocess_images(image_folder, df['Filename'], image_size)"
   ]
  },
  {
   "cell_type": "code",
   "execution_count": 6,
   "metadata": {},
   "outputs": [],
   "source": [
    "# Encode the labels (weed varieties)\n",
    "le = LabelEncoder()\n",
    "labels = le.fit_transform(df['Species'])\n",
    "labels = to_categorical(labels)  # Convert to one-hot encoding\n",
    "\n",
    "# Split dataset into training and testing sets (80% train, 20% test)\n",
    "X_train, X_test, y_train, y_test = train_test_split(images, labels, test_size=0.2, random_state=42)"
   ]
  },
  {
   "cell_type": "code",
   "execution_count": 7,
   "metadata": {},
   "outputs": [],
   "source": [
    "# Normalize pixel values to [0, 1] range\n",
    "X_train = X_train / 255.0\n",
    "X_test = X_test / 255.0\n",
    "\n",
    "# CNN model definition\n",
    "def create_model(input_shape):\n",
    "    model = tf.keras.models.Sequential([\n",
    "        tf.keras.layers.Conv2D(32, (3, 3), activation='relu', input_shape=input_shape),#input layer\n",
    "        tf.keras.layers.MaxPooling2D(pool_size=(2, 2)),\n",
    "        tf.keras.layers.Conv2D(64, (3, 3), activation='relu'),\n",
    "        tf.keras.layers.MaxPooling2D(pool_size=(2, 2)),\n",
    "        tf.keras.layers.Conv2D(128, (3, 3), activation='relu'),\n",
    "        tf.keras.layers.MaxPooling2D(pool_size=(2, 2)),\n",
    "        tf.keras.layers.Flatten(),\n",
    "        tf.keras.layers.Dense(128, activation='relu'),\n",
    "        tf.keras.layers.Dense(len(le.classes_), activation='softmax')  # Output layer\n",
    "    ])\n",
    "    model.compile(optimizer='adam', loss='categorical_crossentropy', metrics=['accuracy'])\n",
    "    return model"
   ]
  },
  {
   "cell_type": "code",
   "execution_count": 8,
   "metadata": {},
   "outputs": [
    {
     "name": "stderr",
     "output_type": "stream",
     "text": [
      "c:\\Users\\User\\AppData\\Local\\Programs\\Python\\Python311\\Lib\\site-packages\\keras\\src\\layers\\convolutional\\base_conv.py:107: UserWarning: Do not pass an `input_shape`/`input_dim` argument to a layer. When using Sequential models, prefer using an `Input(shape)` object as the first layer in the model instead.\n",
      "  super().__init__(activity_regularizer=activity_regularizer, **kwargs)\n"
     ]
    },
    {
     "name": "stdout",
     "output_type": "stream",
     "text": [
      "Epoch 1/15\n",
      "\u001b[1m95/95\u001b[0m \u001b[32m━━━━━━━━━━━━━━━━━━━━\u001b[0m\u001b[37m\u001b[0m \u001b[1m68s\u001b[0m 566ms/step - accuracy: 0.1792 - loss: 1.9919 - val_accuracy: 0.3165 - val_loss: 1.7210\n",
      "Epoch 2/15\n",
      "\u001b[1m95/95\u001b[0m \u001b[32m━━━━━━━━━━━━━━━━━━━━\u001b[0m\u001b[37m\u001b[0m \u001b[1m49s\u001b[0m 518ms/step - accuracy: 0.3877 - loss: 1.5608 - val_accuracy: 0.3804 - val_loss: 1.5536\n",
      "Epoch 3/15\n",
      "\u001b[1m95/95\u001b[0m \u001b[32m━━━━━━━━━━━━━━━━━━━━\u001b[0m\u001b[37m\u001b[0m \u001b[1m59s\u001b[0m 621ms/step - accuracy: 0.4788 - loss: 1.3780 - val_accuracy: 0.4621 - val_loss: 1.3511\n",
      "Epoch 4/15\n",
      "\u001b[1m95/95\u001b[0m \u001b[32m━━━━━━━━━━━━━━━━━━━━\u001b[0m\u001b[37m\u001b[0m \u001b[1m49s\u001b[0m 520ms/step - accuracy: 0.5348 - loss: 1.2414 - val_accuracy: 0.4874 - val_loss: 1.3546\n",
      "Epoch 5/15\n",
      "\u001b[1m95/95\u001b[0m \u001b[32m━━━━━━━━━━━━━━━━━━━━\u001b[0m\u001b[37m\u001b[0m \u001b[1m51s\u001b[0m 538ms/step - accuracy: 0.6081 - loss: 1.0706 - val_accuracy: 0.5542 - val_loss: 1.2002\n",
      "Epoch 6/15\n",
      "\u001b[1m95/95\u001b[0m \u001b[32m━━━━━━━━━━━━━━━━━━━━\u001b[0m\u001b[37m\u001b[0m \u001b[1m48s\u001b[0m 509ms/step - accuracy: 0.6570 - loss: 0.9455 - val_accuracy: 0.5349 - val_loss: 1.2777\n",
      "Epoch 7/15\n",
      "\u001b[1m95/95\u001b[0m \u001b[32m━━━━━━━━━━━━━━━━━━━━\u001b[0m\u001b[37m\u001b[0m \u001b[1m49s\u001b[0m 516ms/step - accuracy: 0.7476 - loss: 0.6931 - val_accuracy: 0.5632 - val_loss: 1.2841\n",
      "Epoch 8/15\n",
      "\u001b[1m95/95\u001b[0m \u001b[32m━━━━━━━━━━━━━━━━━━━━\u001b[0m\u001b[37m\u001b[0m \u001b[1m50s\u001b[0m 525ms/step - accuracy: 0.8332 - loss: 0.5005 - val_accuracy: 0.5825 - val_loss: 1.3247\n",
      "Epoch 9/15\n",
      "\u001b[1m95/95\u001b[0m \u001b[32m━━━━━━━━━━━━━━━━━━━━\u001b[0m\u001b[37m\u001b[0m \u001b[1m51s\u001b[0m 534ms/step - accuracy: 0.9002 - loss: 0.3347 - val_accuracy: 0.5527 - val_loss: 1.6013\n",
      "Epoch 10/15\n",
      "\u001b[1m95/95\u001b[0m \u001b[32m━━━━━━━━━━━━━━━━━━━━\u001b[0m\u001b[37m\u001b[0m \u001b[1m52s\u001b[0m 543ms/step - accuracy: 0.9293 - loss: 0.2216 - val_accuracy: 0.5632 - val_loss: 1.7735\n",
      "Epoch 11/15\n",
      "\u001b[1m95/95\u001b[0m \u001b[32m━━━━━━━━━━━━━━━━━━━━\u001b[0m\u001b[37m\u001b[0m \u001b[1m56s\u001b[0m 592ms/step - accuracy: 0.9759 - loss: 0.1081 - val_accuracy: 0.5810 - val_loss: 1.9928\n",
      "Epoch 12/15\n",
      "\u001b[1m95/95\u001b[0m \u001b[32m━━━━━━━━━━━━━━━━━━━━\u001b[0m\u001b[37m\u001b[0m \u001b[1m55s\u001b[0m 582ms/step - accuracy: 0.9793 - loss: 0.0816 - val_accuracy: 0.4993 - val_loss: 2.5478\n",
      "Epoch 13/15\n",
      "\u001b[1m95/95\u001b[0m \u001b[32m━━━━━━━━━━━━━━━━━━━━\u001b[0m\u001b[37m\u001b[0m \u001b[1m57s\u001b[0m 595ms/step - accuracy: 0.9884 - loss: 0.0505 - val_accuracy: 0.5661 - val_loss: 2.5424\n",
      "Epoch 14/15\n",
      "\u001b[1m95/95\u001b[0m \u001b[32m━━━━━━━━━━━━━━━━━━━━\u001b[0m\u001b[37m\u001b[0m \u001b[1m53s\u001b[0m 554ms/step - accuracy: 0.9938 - loss: 0.0366 - val_accuracy: 0.5394 - val_loss: 2.6850\n",
      "Epoch 15/15\n",
      "\u001b[1m95/95\u001b[0m \u001b[32m━━━━━━━━━━━━━━━━━━━━\u001b[0m\u001b[37m\u001b[0m \u001b[1m51s\u001b[0m 535ms/step - accuracy: 0.9926 - loss: 0.0295 - val_accuracy: 0.5587 - val_loss: 2.7685\n"
     ]
    }
   ],
   "source": [
    "# Create the CNN model\n",
    "input_shape = (image_size[0], image_size[1], 3)  # 3 channels for RGB\n",
    "model = create_model(input_shape)\n",
    "\n",
    "# Train the model\n",
    "batch_size = 64\n",
    "epochs = 15\n",
    "history = model.fit(X_train, y_train, epochs=epochs, batch_size=batch_size, validation_split=0.1)"
   ]
  },
  {
   "cell_type": "code",
   "execution_count": 9,
   "metadata": {},
   "outputs": [
    {
     "name": "stderr",
     "output_type": "stream",
     "text": [
      "WARNING:absl:You are saving your model as an HDF5 file via `model.save()` or `keras.saving.save_model(model)`. This file format is considered legacy. We recommend using instead the native Keras format, e.g. `model.save('my_model.keras')` or `keras.saving.save_model(model, 'my_model.keras')`. \n"
     ]
    }
   ],
   "source": [
    "# Save the model\n",
    "model.save('weed_classification_model.h5')"
   ]
  },
  {
   "cell_type": "code",
   "execution_count": 10,
   "metadata": {},
   "outputs": [
    {
     "name": "stdout",
     "output_type": "stream",
     "text": [
      "\u001b[1m1/1\u001b[0m \u001b[32m━━━━━━━━━━━━━━━━━━━━\u001b[0m\u001b[37m\u001b[0m \u001b[1m0s\u001b[0m 221ms/step\n",
      "Predicted weed variety: Chinee apple\n"
     ]
    }
   ],
   "source": [
    "# Predict on a test image (example)\n",
    "sample_image = \"images/20170711-115741-0.jpg\"\n",
    "#test and reshape\n",
    "sample_image = X_test[0].reshape(1, image_size[0], image_size[1], 3)\n",
    "#predict image\n",
    "prediction = model.predict(sample_image) # precictedimage come as array\n",
    "predicted_class = le.inverse_transform([np.argmax(prediction)])\n",
    "print(f\"Predicted weed variety: {predicted_class[0]}\")"
   ]
  },
  {
   "cell_type": "code",
   "execution_count": 11,
   "metadata": {},
   "outputs": [],
   "source": [
    "import json\n",
    "\n",
    "# Save the class labels (weed species) to a JSON file\n",
    "class_labels = list(le.classes_)  # List of species names\n",
    "with open('class_labels.json', 'w') as f:\n",
    "    json.dump(class_labels, f)"
   ]
  }
 ],
 "metadata": {
  "kernelspec": {
   "display_name": "Python 3",
   "language": "python",
   "name": "python3"
  },
  "language_info": {
   "codemirror_mode": {
    "name": "ipython",
    "version": 3
   },
   "file_extension": ".py",
   "mimetype": "text/x-python",
   "name": "python",
   "nbconvert_exporter": "python",
   "pygments_lexer": "ipython3",
   "version": "3.11.1"
  }
 },
 "nbformat": 4,
 "nbformat_minor": 2
}
